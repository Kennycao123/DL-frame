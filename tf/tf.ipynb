{
 "cells": [
  {
   "cell_type": "code",
   "execution_count": 1,
   "metadata": {},
   "outputs": [],
   "source": [
    "import tensorflow as tf"
   ]
  },
  {
   "cell_type": "code",
   "execution_count": 23,
   "metadata": {
    "tags": []
   },
   "outputs": [
    {
     "output_type": "execute_result",
     "data": {
      "text/plain": "<tf.Tensor 'concat_4:0' shape=(4, 3) dtype=int32>"
     },
     "metadata": {},
     "execution_count": 23
    }
   ],
   "source": [
    "t1 = [[1,2,3],[4,5,6]]\n",
    "t2 = [[7,8,9],[10,11,12]]\n",
    "tf.concat([t1,t2],axis=0) #在哪个维度上，那个维度值就改变,此处由２行三列改为了四行三列。"
   ]
  },
  {
   "cell_type": "code",
   "execution_count": 14,
   "metadata": {},
   "outputs": [
    {
     "output_type": "execute_result",
     "data": {
      "text/plain": "<tf.Tensor 'ExpandDims:0' shape=(1, 2, 3) dtype=int32>"
     },
     "metadata": {},
     "execution_count": 14
    }
   ],
   "source": [
    "t3 = [[1,2,3],[4,5,6 ]]  #shape[2,3] \n",
    "tf.expand_dims(t3,axis=0)  #增加维度"
   ]
  },
  {
   "cell_type": "code",
   "execution_count": 5,
   "metadata": {
    "tags": []
   },
   "outputs": [
    {
     "output_type": "stream",
     "name": "stdout",
     "text": "Tensor(\"ExpandDims:0\", shape=(1, 2, 3), dtype=int32)\n"
    }
   ],
   "source": [
    "import tensorflow as tf\n",
    "t3 = [[1,2,3],[4,5,6 ]]\n",
    "t4 = tf.expand_dims(t3,axis=0)\n",
    "print(t4)"
   ]
  },
  {
   "cell_type": "code",
   "execution_count": 18,
   "metadata": {
    "tags": []
   },
   "outputs": [
    {
     "output_type": "stream",
     "name": "stdout",
     "text": "Tensor(\"Squeeze_12:0\", shape=(2, 3), dtype=int32)\n"
    }
   ],
   "source": [
    "import tensorflow as tf\n",
    "t3 = [[1,2,3],[4,5,6 ]]\n",
    "t4 = tf.expand_dims(t3,axis=0)\n",
    "t5 = tf.squeeze(t4)\n",
    "print(t5)"
   ]
  },
  {
   "cell_type": "code",
   "execution_count": 19,
   "metadata": {},
   "outputs": [
    {
     "output_type": "execute_result",
     "data": {
      "text/plain": "<tf.Tensor 'Cast:0' shape=(2,) dtype=int32>"
     },
     "metadata": {},
     "execution_count": 19
    }
   ],
   "source": [
    "x = tf.constant([1.8,2.2],dtype=tf.float32)\n",
    "tf.dtypes.cast(x,tf.int32)"
   ]
  },
  {
   "cell_type": "code",
   "execution_count": 21,
   "metadata": {
    "tags": []
   },
   "outputs": [
    {
     "output_type": "stream",
     "name": "stdout",
     "text": "[[ 1  2  3]\n [ 4  5  6]\n [ 7  8  9]\n [10 11 12]]\n\n\n[[ 1  2  3  7  8  9]\n [ 4  5  6 10 11 12]]\n\n\n[[[ 1  2  3]\n  [ 4  5  6]]\n\n [[ 7  8  9]\n  [10 11 12]]]\n\n\n[[[ 1  2  3]\n  [ 7  8  9]]\n\n [[ 4  5  6]\n  [10 11 12]]]\n"
    }
   ],
   "source": [
    "import tensorflow as tf\n",
    "\n",
    "a = tf.constant([[1,2,3],[4,5,6]])\n",
    "b = tf.constant([[7,8,9],[10,11,12]])\n",
    "c1 = tf.concat([a,b],axis=0)\n",
    "s1 = tf.stack([a,b], axis=0)\n",
    "c2 = tf.concat([a,b],axis=1)\n",
    "s2 = tf.stack([a,b], axis=1)\n",
    "sess = tf.Session()\n",
    "sess.run(tf.global_variables_initializer())\n",
    "print(sess.run(c1))\n",
    "print(\"\\n\")\n",
    "print(sess.run(c2))\n",
    "print(\"\\n\")\n",
    "print(sess.run(s1))\n",
    "print(\"\\n\")\n",
    "print(sess.run(s2))\n"
   ]
  },
  {
   "cell_type": "code",
   "execution_count": null,
   "metadata": {},
   "outputs": [],
   "source": []
  }
 ],
 "metadata": {
  "language_info": {
   "codemirror_mode": {
    "name": "ipython",
    "version": 3
   },
   "file_extension": ".py",
   "mimetype": "text/x-python",
   "name": "python",
   "nbconvert_exporter": "python",
   "pygments_lexer": "ipython3",
   "version": 3
  },
  "orig_nbformat": 2,
  "kernelspec": {
   "name": "python_defaultSpec_1613963344378",
   "display_name": "Python 3.6.9 64-bit"
  }
 },
 "nbformat": 4,
 "nbformat_minor": 2
}